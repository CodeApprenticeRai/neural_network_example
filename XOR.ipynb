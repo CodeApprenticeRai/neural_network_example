{
 "cells": [
  {
   "cell_type": "code",
   "execution_count": 13,
   "id": "112edcd6",
   "metadata": {
    "scrolled": true
   },
   "outputs": [
    {
     "data": {
      "text/plain": [
       "array([[1. , 1. ],\n",
       "       [1.5, 1.5],\n",
       "       [1.5, 1.5],\n",
       "       [2. , 2. ]])"
      ]
     },
     "execution_count": 13,
     "metadata": {},
     "output_type": "execute_result"
    }
   ],
   "source": [
    "import numpy as np\n",
    "\n",
    "# xOR Computation\n",
    "def relu(x):\n",
    "    return max(0,x)\n",
    "\n",
    "def relu_prime(x):\n",
    "    if (x < 0):\n",
    "        return 0\n",
    "    else:\n",
    "        return 1\n",
    "\n",
    "relu = np.vectorize(relu)\n",
    "relu_prime = np.vectorize(relu_prime)\n",
    "\n",
    "\n",
    "\n",
    "X = np.array([\n",
    "    [1,0,0],\n",
    "    [1,0,1],\n",
    "    [1,1,0],\n",
    "    [1,1,1],\n",
    "])\n",
    "\n",
    "Y = np.array([\n",
    "    [0],\n",
    "    [1],\n",
    "    [1],\n",
    "    [0]\n",
    "])\n",
    "\n",
    "W1 = np.array([\n",
    "    [0.5, 0.5],\n",
    "    [0.5, 0.5],\n",
    "    [0.5, 0.5],\n",
    "])\n",
    "\n",
    "H1 = np.dot(X,W1)\n",
    "Z1 = relu(H1)\n",
    "Z1 = np.hstack((np.array([1,1,1,1])[:, np.newaxis], Z1))\n",
    "\n",
    "W2 = np.array([\n",
    "    [0.5, 0.5],\n",
    "    [0.5, 0.5],\n",
    "    [0.5, 0.5],\n",
    "])\n",
    "\n",
    "H2 = np.dot(Z1, W2)\n",
    "\n",
    "y_hat = relu(H2)\n",
    "\n",
    "y_hat"
   ]
  },
  {
   "cell_type": "code",
   "execution_count": null,
   "id": "afd2968f",
   "metadata": {},
   "outputs": [],
   "source": []
  }
 ],
 "metadata": {
  "kernelspec": {
   "display_name": "Python 3 (ipykernel)",
   "language": "python",
   "name": "python3"
  },
  "language_info": {
   "codemirror_mode": {
    "name": "ipython",
    "version": 3
   },
   "file_extension": ".py",
   "mimetype": "text/x-python",
   "name": "python",
   "nbconvert_exporter": "python",
   "pygments_lexer": "ipython3",
   "version": "3.10.2"
  }
 },
 "nbformat": 4,
 "nbformat_minor": 5
}
